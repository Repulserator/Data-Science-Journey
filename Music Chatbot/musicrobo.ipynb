{
  "cells": [
    {
      "cell_type": "markdown",
      "id": "ab1e4680",
      "metadata": {},
      "source": [
        "#### Import libraries and setup display formatting"
      ]
    },
    {
      "cell_type": "code",
      "execution_count": 1,
      "id": "ac775ae3",
      "metadata": {
        "colab": {
          "base_uri": "https://localhost:8080/"
        },
        "id": "ac775ae3",
        "outputId": "aea01886-a2ec-4b9a-f468-60b7f0077f2b"
      },
      "outputs": [
        {
          "name": "stderr",
          "output_type": "stream",
          "text": [
            "[nltk_data] Downloading package omw-1.4 to /root/nltk_data...\n",
            "[nltk_data] Downloading package wordnet to /root/nltk_data...\n",
            "[nltk_data] Downloading package punkt to /root/nltk_data...\n",
            "[nltk_data]   Unzipping tokenizers/punkt.zip.\n"
          ]
        }
      ],
      "source": [
        "import nltk\n",
        "import numpy as np\n",
        "import pandas as pd\n",
        "import requests\n",
        "import random\n",
        "import string\n",
        "\n",
        "nltk.download('omw-1.4')\n",
        "nltk.download('wordnet')\n",
        "nltk.download('punkt')\n",
        "\n",
        "import bs4 as bs\n",
        "import urllib.request\n",
        "import re\n",
        "\n",
        "from IPython.display import HTML, display\n",
        "\n",
        "def set_css():\n",
        "  display(HTML('''\n",
        "  <style>\n",
        "    pre {\n",
        "        white-space: pre-wrap;\n",
        "    }\n",
        "  </style>\n",
        "  '''))\n",
        "get_ipython().events.register('pre_run_cell', set_css)"
      ]
    },
    {
      "cell_type": "markdown",
      "id": "a13ecb67",
      "metadata": {},
      "source": [
        "#### Access Wikipedia pages and scrape article text"
      ]
    },
    {
      "cell_type": "code",
      "execution_count": 2,
      "id": "43843619",
      "metadata": {
        "colab": {
          "base_uri": "https://localhost:8080/",
          "height": 17
        },
        "id": "43843619",
        "outputId": "0eeb720b-cd8e-466e-98e3-9af38b0123ce"
      },
      "outputs": [
        {
          "data": {
            "text/html": [
              "\n",
              "  <style>\n",
              "    pre {\n",
              "        white-space: pre-wrap;\n",
              "    }\n",
              "  </style>\n",
              "  "
            ],
            "text/plain": [
              "<IPython.core.display.HTML object>"
            ]
          },
          "metadata": {},
          "output_type": "display_data"
        }
      ],
      "source": [
        "#accessing database/webpage\n",
        "\n",
        "#link 1\n",
        "raw_html = urllib.request.urlopen('https://en.wikipedia.org/wiki/Coldplay')\n",
        "\n",
        "raw_html = raw_html.read()\n",
        "\n",
        "article_html = bs.BeautifulSoup(raw_html, 'lxml')\n",
        "article_paragraphs = article_html.find_all('p')\n",
        "article_text = ''\n",
        "\n",
        "for para in article_paragraphs:\n",
        "    article_text += para.text\n",
        "\n",
        "\n",
        "#link 2\n",
        "raw_html2 = urllib.request.urlopen('https://en.wikipedia.org/wiki/One_Direction')\n",
        "\n",
        "raw_html2 = raw_html2.read()\n",
        "\n",
        "article_html2 = bs.BeautifulSoup(raw_html2, 'lxml')\n",
        "article_paragraphs2 = article_html2.find_all('p')\n",
        "\n",
        "for para2 in article_paragraphs2:\n",
        "    article_text += para2.text\n",
        "\n",
        "\n",
        "#link 3\n",
        "raw_html3 = urllib.request.urlopen('https://en.wikipedia.org/wiki/The_Chainsmokers')\n",
        "\n",
        "raw_html3 = raw_html3.read()\n",
        "\n",
        "article_html3 = bs.BeautifulSoup(raw_html3, 'lxml')\n",
        "article_paragraphs3 = article_html3.find_all('p')\n",
        "\n",
        "for para3 in article_paragraphs3:\n",
        "    article_text += para3.text\n",
        "\n",
        "article_text = article_text.lower()\n",
        "\n",
        "\n",
        "#A fucntion To Dynamically load information about any artist the user asks for\n",
        "\n",
        "def klink(link):\n",
        "\n",
        "  #Using Global so variables can be used outside of function\n",
        "\n",
        "  global desc\n",
        "  global article_text\n",
        "  desc=''\n",
        "  n=0\n",
        "\n",
        "  #print(\"For micheal 3\",\"n\",n,\"desc\",desc,\"ARC\",article_text[-1])\n",
        "\n",
        "  raw_htmlk = urllib.request.urlopen('https://en.wikipedia.org/wiki/'+link)\n",
        "  raw_htmlk = raw_htmlk.read()\n",
        "\n",
        "  article_htmlk = bs.BeautifulSoup(raw_htmlk, 'lxml')\n",
        "  article_paragraphsk = article_htmlk.find_all('p')\n",
        "\n",
        "\n",
        "  for parak in article_paragraphsk:\n",
        "\n",
        "    #exit after 30 lines\n",
        "    if n==30:\n",
        "      return\n",
        "\n",
        "    article_text += parak.text\n",
        "    #print(n,article_text)\n",
        "\n",
        "    #increment\n",
        "    n=n+1\n",
        "\n",
        "    #Save the first 3 lines of para as description\n",
        "    if n<4:\n",
        "      desc=desc+parak.text\n",
        "      desc = re.sub(r'\\[[0-9]*\\]', ' ', desc)\n",
        "      desc = re.sub(r'\\s+', ' ', desc)\n",
        "      print('This is Your Description',desc)\n",
        "\n",
        "\n"
      ]
    },
    {
      "cell_type": "markdown",
      "id": "9f2dc207",
      "metadata": {},
      "source": [
        "#### Preload list of artists from website"
      ]
    },
    {
      "cell_type": "code",
      "execution_count": 3,
      "id": "REWloUb4bIbp",
      "metadata": {
        "colab": {
          "base_uri": "https://localhost:8080/",
          "height": 17
        },
        "id": "REWloUb4bIbp",
        "outputId": "a0dcf810-b9d2-4363-fff7-d799616dc3c0"
      },
      "outputs": [
        {
          "data": {
            "text/html": [
              "\n",
              "  <style>\n",
              "    pre {\n",
              "        white-space: pre-wrap;\n",
              "    }\n",
              "  </style>\n",
              "  "
            ],
            "text/plain": [
              "<IPython.core.display.HTML object>"
            ]
          },
          "metadata": {},
          "output_type": "display_data"
        }
      ],
      "source": [
        "#Using Preloaded list from Below code for convinience sake\n",
        "Testlis=['The Beatles', 'Michael Jackson', 'Elvis Presley', 'Queen', 'Madonna', 'The Rolling Stones', 'Pink Floyd', 'Led Zeppelin', 'Elton John', 'U2', 'AC/DC', 'Eminem', 'Céline Dion', 'Rod Stewart & Faces', 'Mariah Carey', 'Eagles', 'Eric Clapton', 'Metallica', 'ABBA', 'Bee Gees', 'Bruce Springsteen', 'Whitney Houston', 'Barbra Streisand', 'Phil Collins', 'Fleetwood Mac', 'Bon Jovi', 'Billy Joel', 'Santana', 'Bob Dylan', 'Garth Brooks', 'Bob Marley', 'Taylor Swift', 'Prince', 'Aerosmith', 'David Bowie', 'Simon & Garfunkel', '\"Guns N Roses\"', 'Stevie Wonder', 'The Doors', 'Genesis', 'Paul McCartney', 'Britney Spears', 'BTS', 'Dire Straits', 'Coldplay', 'George Michael & Wham!', 'Drake', 'Jimi Hendrix', 'Rihanna', 'Adele', 'Van Halen', 'Red Hot Chili Peppers', 'The Police', 'Backstreet Boys', 'Justin Bieber', 'Nirvana', 'Creedence Clearwater Revival', 'Deep Purple', 'Beyonce', 'Linkin Park', 'Neil Young', 'Ed Sheeran', 'R.E.M.', 'Green Day', 'Bryan Adams', 'Iron Maiden', 'Enya', 'Shania Twain', 'Journey', '2Pac', 'Sting', 'Maroon 5', 'P!nk', 'Black Sabbath', 'Janet Jackson', 'Lady Gaga', 'Robbie Williams', 'Johnny Hallyday', 'Sade', 'Bruno Mars', 'John Lennon', 'Cher', 'Supertramp', 'Shakira', 'Usher', 'Michael Buble', 'Oasis', 'The Weeknd', 'Meat Loaf', 'Ayumi Hamasaki', 'Ariana Grande', 'Katy Perry', 'Crosby, Stills & Nash', 'Enrique Iglesias', 'One Direction', 'Black Eyed Peas', 'Jackson 5 & The Jacksons', 'Alanis Morissette', 'Nickelback', 'Christina Aguilera', 'Bad Bunny', 'Justin Timberlake', 'Alicia Keys', 'Ozzy Osbourne', 'Miley Cyrus', 'Norah Jones', 'Paul Simon', 'Tracy Chapman', 'Boston', '\"Destinys Child\"', 'Spice Girls', 'Avril Lavigne', 'Cranberries', 'Jennifer Lopez', 'NSYNC', 'Foo Fighters', 'Mannheim Steamroller', 'Imagine Dragons', 'Cream', 'Post Malone', 'TLC', 'Take That', 'Travis Scott', 'Kelly Clarkson', 'Kendrick Lamar', 'Kylie Minogue', 'Selena Gomez', 'Xuxa', 'Billie Eilish', 'No Doubt', 'Amy Winehouse', 'Sam Smith', 'Juice Wrld', 'Evanescence', 'Dido', 'Lana Del Rey', 'Dua Lipa', 'Carrie Underwood', 'Shawn Mendes', 'James Blunt', 'Arctic Monkeys', 'Gorillaz', 'BjÃ¶rk', 'Demi Lovato', 'Avicii', 'Blackpink', 'Fugees', 'Cardi B', 'Ms. Lauryn Hill', 'Renaud', 'Gwen Stefani', 'Harry Styles', 'Lin-Manuel Miranda', 'Macklemore', 'Aaliyah', 'The Yardbirds', 'Doja Cat', 'Little Mix', 'Meghan Trainor', 'Fergie', 'Lorde', 'Will.i.am', 'Olivia Rodrigo', 'Lil Nas X', 'Buffalo Springfield', 'Blind Faith', 'Lewis Capaldi']"
      ]
    },
    {
      "cell_type": "markdown",
      "id": "bd55afb3",
      "metadata": {},
      "source": [
        "#### String modification function to match artist names"
      ]
    },
    {
      "cell_type": "code",
      "execution_count": 4,
      "id": "U9e29Pfcb9A2",
      "metadata": {
        "colab": {
          "base_uri": "https://localhost:8080/",
          "height": 34
        },
        "id": "U9e29Pfcb9A2",
        "outputId": "b91c91ce-3ef8-43fe-ba3f-5e7cd9575b0d"
      },
      "outputs": [
        {
          "data": {
            "text/html": [
              "\n",
              "  <style>\n",
              "    pre {\n",
              "        white-space: pre-wrap;\n",
              "    }\n",
              "  </style>\n",
              "  "
            ],
            "text/plain": [
              "<IPython.core.display.HTML object>"
            ]
          },
          "metadata": {},
          "output_type": "display_data"
        },
        {
          "name": "stdout",
          "output_type": "stream",
          "text": [
            "skipping\n"
          ]
        }
      ],
      "source": [
        "#Gather list of best selling artists from a website\n",
        "#If the artists ever get updated so will the list\n",
        "\n",
        "# skip the cells from running\n",
        "%%script echo skipping\n",
        "\n",
        "url = \"https://chartmasters.org/best-selling-artists-of-all-time/\"\n",
        "data = requests.get(url).text\n",
        "\n",
        "soup = bs.BeautifulSoup(data,'html5lib')\n",
        "\n",
        "#Find all tables in page\n",
        "print('Class of each table')\n",
        "for table in soup.find_all('table'):\n",
        "  print(table.get('class'))\n",
        "\n",
        "#select table to fetch data from\n",
        "table = soup.find('table',class_='resultsTab')\n",
        "\n",
        "Artists=[]\n",
        "i= 150\n",
        "#fetch data from table\n",
        "for row in table.tbody.find_all('tr'):\n",
        "  column = row.find_all('td')\n",
        "  row = [tr.text.strip() for tr in column[2]]\n",
        "  Artists.append(row)\n",
        "\n",
        "#Flatten list so its 1 dimensional\n",
        "print(Artists)\n",
        "print(artword)\n",
        "Artists2=[]\n",
        "for i in Artists:\n",
        "  Artists2.append(str(i).replace('[','').replace(']','').replace(\"'\",''))\n",
        "\n",
        "print(Artists2)\n"
      ]
    },
    {
      "cell_type": "code",
      "execution_count": 5,
      "id": "lKrPrn9qvl-S",
      "metadata": {
        "colab": {
          "base_uri": "https://localhost:8080/",
          "height": 17
        },
        "id": "lKrPrn9qvl-S",
        "outputId": "ff634aaf-c16c-4f12-9fae-b5d20ff1636e"
      },
      "outputs": [
        {
          "data": {
            "text/html": [
              "\n",
              "  <style>\n",
              "    pre {\n",
              "        white-space: pre-wrap;\n",
              "    }\n",
              "  </style>\n",
              "  "
            ],
            "text/plain": [
              "<IPython.core.display.HTML object>"
            ]
          },
          "metadata": {},
          "output_type": "display_data"
        }
      ],
      "source": [
        "#Function to modify string so it can be used as input for website\n",
        "def strmod(st):\n",
        "  if st.lower().startswith(\"tell me about\"):\n",
        "    #Change to  titlecase to compare with list\n",
        "    stn=st[len(\"Tell me about \"):].title()\n",
        "  else: print(\"No good\")\n",
        "\n",
        "  #Compare with List\n",
        "  if stn in Testlis:\n",
        "    klink(stn.replace(' ','_'))\n",
        "    return\n"
      ]
    },
    {
      "cell_type": "markdown",
      "id": "1a20c354",
      "metadata": {},
      "source": [
        "#### Initiate punctuation removal "
      ]
    },
    {
      "cell_type": "code",
      "execution_count": 6,
      "id": "71c0d3bb",
      "metadata": {
        "colab": {
          "base_uri": "https://localhost:8080/",
          "height": 17
        },
        "id": "71c0d3bb",
        "outputId": "fb3e6f10-4dd3-4b02-d688-99fefdcca26a"
      },
      "outputs": [
        {
          "data": {
            "text/html": [
              "\n",
              "  <style>\n",
              "    pre {\n",
              "        white-space: pre-wrap;\n",
              "    }\n",
              "  </style>\n",
              "  "
            ],
            "text/plain": [
              "<IPython.core.display.HTML object>"
            ]
          },
          "metadata": {},
          "output_type": "display_data"
        }
      ],
      "source": [
        "#initiating punctuation removal\n",
        "article_text = re.sub(r'\\[[0-9]*\\]', ' ', article_text)\n",
        "article_text = re.sub(r'\\s+', ' ', article_text)"
      ]
    },
    {
      "cell_type": "markdown",
      "id": "b96b4812",
      "metadata": {},
      "source": [
        "#### Tokenize article text into words and sentences"
      ]
    },
    {
      "cell_type": "code",
      "execution_count": 7,
      "id": "02f7c26e",
      "metadata": {
        "colab": {
          "base_uri": "https://localhost:8080/",
          "height": 17
        },
        "id": "02f7c26e",
        "outputId": "bfaae770-9532-4a55-fd8b-e8c9d30b2629"
      },
      "outputs": [
        {
          "data": {
            "text/html": [
              "\n",
              "  <style>\n",
              "    pre {\n",
              "        white-space: pre-wrap;\n",
              "    }\n",
              "  </style>\n",
              "  "
            ],
            "text/plain": [
              "<IPython.core.display.HTML object>"
            ]
          },
          "metadata": {},
          "output_type": "display_data"
        }
      ],
      "source": [
        "#tokenizing data\n",
        "article_sentences = nltk.sent_tokenize(article_text)\n",
        "article_words = nltk.word_tokenize(article_text)"
      ]
    },
    {
      "cell_type": "markdown",
      "id": "e2cfbc92",
      "metadata": {},
      "source": [
        "#### Lemmatize words and remove punctuation"
      ]
    },
    {
      "cell_type": "code",
      "execution_count": 8,
      "id": "8207e01f",
      "metadata": {
        "colab": {
          "base_uri": "https://localhost:8080/",
          "height": 17
        },
        "id": "8207e01f",
        "outputId": "74bba59f-a95b-411b-ece1-d80502587d1c"
      },
      "outputs": [
        {
          "data": {
            "text/html": [
              "\n",
              "  <style>\n",
              "    pre {\n",
              "        white-space: pre-wrap;\n",
              "    }\n",
              "  </style>\n",
              "  "
            ],
            "text/plain": [
              "<IPython.core.display.HTML object>"
            ]
          },
          "metadata": {},
          "output_type": "display_data"
        }
      ],
      "source": [
        "#lemmatizing accessed data\n",
        "wnlemmatizer = nltk.stem.WordNetLemmatizer()\n",
        "\n",
        "def perform_lemmatization(tokens):\n",
        "    return [wnlemmatizer.lemmatize(token) for token in tokens]\n",
        "\n",
        "#removing punctuation and numbers\n",
        "punctuation_removal = dict((ord(punctuation), None) for punctuation in string.punctuation)\n",
        "\n",
        "#function to preprocess data\n",
        "def get_processed_text(document):\n",
        "    return perform_lemmatization(nltk.word_tokenize(document.lower().translate(punctuation_removal)))\n"
      ]
    },
    {
      "cell_type": "markdown",
      "id": "75b0257e",
      "metadata": {},
      "source": [
        "#### Responses for greetings "
      ]
    },
    {
      "cell_type": "code",
      "execution_count": 9,
      "id": "62e78503",
      "metadata": {
        "colab": {
          "base_uri": "https://localhost:8080/",
          "height": 17
        },
        "id": "62e78503",
        "outputId": "fcf6df9f-7afd-4de6-937a-809902c80340"
      },
      "outputs": [
        {
          "data": {
            "text/html": [
              "\n",
              "  <style>\n",
              "    pre {\n",
              "        white-space: pre-wrap;\n",
              "    }\n",
              "  </style>\n",
              "  "
            ],
            "text/plain": [
              "<IPython.core.display.HTML object>"
            ]
          },
          "metadata": {},
          "output_type": "display_data"
        }
      ],
      "source": [
        "#generating responses for greetings\n",
        "greeting_inputs = ('hey', 'good morning', 'good evening', \"hi\", \"hello\", \"what is up?\")\n",
        "greeting_responses = [\"hey\", 'how are you', 'how are you doing?', 'hello']\n",
        "\n",
        "#returns random greeting from list\n",
        "def generate_greeting_response(greeting):\n",
        "    for token in greeting.split():\n",
        "        if token.lower() in greeting_inputs:\n",
        "            return random.choice(greeting_responses)\n",
        "\n",
        "#2nd layer of conversation not working\n",
        "# level2_inputs = ('how are you?',\"I am good\", \"I want to know about musicians\", 'artist details')\n",
        "# level2_responses = ('I am glad to hear that', 'That is great, how can I help you?')\n",
        "\n",
        "# def generate_level2_response(greeting):\n",
        "#     for token in greeting.split():\n",
        "#         if token.lower() in level2_inputs:\n",
        "#             return random.choice(level2_responses)\n"
      ]
    },
    {
      "cell_type": "code",
      "execution_count": 10,
      "id": "d7cf32cd",
      "metadata": {
        "colab": {
          "base_uri": "https://localhost:8080/",
          "height": 17
        },
        "id": "d7cf32cd",
        "outputId": "d47de29a-249d-40e5-c7b0-dde8e899fc58"
      },
      "outputs": [
        {
          "data": {
            "text/html": [
              "\n",
              "  <style>\n",
              "    pre {\n",
              "        white-space: pre-wrap;\n",
              "    }\n",
              "  </style>\n",
              "  "
            ],
            "text/plain": [
              "<IPython.core.display.HTML object>"
            ]
          },
          "metadata": {},
          "output_type": "display_data"
        }
      ],
      "source": [
        "from sklearn.feature_extraction.text import TfidfVectorizer\n",
        "from sklearn.metrics.pairwise import cosine_similarity"
      ]
    },
    {
      "cell_type": "markdown",
      "id": "27c61aa2",
      "metadata": {},
      "source": [
        "#### Vectorize text and calculate similarity"
      ]
    },
    {
      "cell_type": "code",
      "execution_count": 11,
      "id": "06b39354",
      "metadata": {
        "colab": {
          "base_uri": "https://localhost:8080/",
          "height": 17
        },
        "id": "06b39354",
        "outputId": "7148e6d6-fc77-45e8-bdda-bf92867078c7"
      },
      "outputs": [
        {
          "data": {
            "text/html": [
              "\n",
              "  <style>\n",
              "    pre {\n",
              "        white-space: pre-wrap;\n",
              "    }\n",
              "  </style>\n",
              "  "
            ],
            "text/plain": [
              "<IPython.core.display.HTML object>"
            ]
          },
          "metadata": {},
          "output_type": "display_data"
        }
      ],
      "source": [
        "#Creating function to generate response to query\n",
        "def generate_response(user_input):\n",
        "    musicrobo_response = ''\n",
        "    article_sentences.append(user_input)\n",
        "    ######print(\"11\",article_sentences[-1],article_sentences[-2])\n",
        "    #vectorization of data\n",
        "    word_vectorizer = TfidfVectorizer(tokenizer=get_processed_text, stop_words = 'english')\n",
        "    all_word_vectors = word_vectorizer.fit_transform(article_sentences)\n",
        "    ######print(\"22\",all_word_vectors[-1],all_word_vectors)\n",
        "\n",
        "    similar_vector_values = cosine_similarity(all_word_vectors[-1], all_word_vectors)\n",
        "    similar_sentence_number = similar_vector_values.argsort()[0][-2]\n",
        "\n",
        "    matched_vector = similar_vector_values.flatten()\n",
        "    matched_vector.sort()\n",
        "    vector_matched = matched_vector[-2]\n",
        "\n",
        "# Responses for confirmation questions\n",
        "#response for no match found or generating response\n",
        "\n",
        "    if user_input == \"yes\":\n",
        "        return continue_dialogue\n",
        "    elif user_input == \"no\":\n",
        "        print (\"Please rephrase your question so thaat I can help you!\")\n",
        "        return continue_dialogue\n",
        "    if vector_matched == 0:\n",
        "        musicrobo_response = musicrobo_response + 'I am sorry, I could not understand you'\n",
        "        return musicrobo_response\n",
        "    else:\n",
        "        musicrobo_response = musicrobo_response + article_sentences[similar_sentence_number]\n",
        "        return musicrobo_response + \"\\nIs that what you were looking for?\"\n",
        "\n"
      ]
    },
    {
      "cell_type": "markdown",
      "id": "f5248462",
      "metadata": {},
      "source": [
        "#### Generate responses based on similarity and the main Dialog loop that allows conversation to continue"
      ]
    },
    {
      "cell_type": "code",
      "execution_count": 12,
      "id": "75e3229e",
      "metadata": {
        "colab": {
          "base_uri": "https://localhost:8080/",
          "height": 503
        },
        "id": "75e3229e",
        "outputId": "7401b4ea-b7d4-4809-9c07-db4af343b318"
      },
      "outputs": [
        {
          "data": {
            "text/html": [
              "\n",
              "  <style>\n",
              "    pre {\n",
              "        white-space: pre-wrap;\n",
              "    }\n",
              "  </style>\n",
              "  "
            ],
            "text/plain": [
              "<IPython.core.display.HTML object>"
            ]
          },
          "metadata": {},
          "output_type": "display_data"
        },
        {
          "name": "stdout",
          "output_type": "stream",
          "text": [
            "What is your name?\n",
            "Repulserator\n",
            "Hey Repulserator,I am MusicRobo and if you want to know something about a musician, ask the brightest mind, me!!\n",
            "\n",
            "Wondering what you can ask? Type in any question about about your favourite bands or artists. You can ask questions like: 'Who are the bassists and vocalists at Coldplay?' or 'What does Avicii mean?'\n",
            "\n",
            "Type 'bye' to exit!\n",
            "Tell me about avicii\n",
            "This is Your Description  \n",
            "This is Your Description  Tim Bergling (Swedish: [ˈtɪmː ˈbæ̂rjlɪŋ] ⓘ; 8 September 1989 – 20 April 2018), known professionally as Avicii (/əˈviːtʃi/ ə-VEE-chee, Swedish: [aˈvɪ̌tːɕɪ]), was a Swedish DJ, music producer, remixer, and songwriter. At age 16, Bergling began posting his remixes on electronic music forums, which led to his first record deal. He rose to prominence in 2011 with his single \"Levels\". His debut studio album, True (2013), blended electronic music with elements of multiple genres and received generally positive reviews. It peaked in the top 10 in more than 15 countries and topped international charts; the lead single, \"Wake Me Up\", topped most music markets in Europe and reached number four in the United States. \n",
            "This is Your Description  Tim Bergling (Swedish: [ˈtɪmː ˈbæ̂rjlɪŋ] ⓘ; 8 September 1989 – 20 April 2018), known professionally as Avicii (/əˈviːtʃi/ ə-VEE-chee, Swedish: [aˈvɪ̌tːɕɪ]), was a Swedish DJ, music producer, remixer, and songwriter. At age 16, Bergling began posting his remixes on electronic music forums, which led to his first record deal. He rose to prominence in 2011 with his single \"Levels\". His debut studio album, True (2013), blended electronic music with elements of multiple genres and received generally positive reviews. It peaked in the top 10 in more than 15 countries and topped international charts; the lead single, \"Wake Me Up\", topped most music markets in Europe and reached number four in the United States. In 2015, Bergling released his second studio album, Stories, and in 2017 he released an EP, Avīci (01). His catalog also included the singles \"I Could Be the One\" with Nicky Romero, \"You Make Me\", \"X You\", \"Hey Brother\", \"Addicted to You\", \"The Days\", \"The Nights\", \"Waiting for Love\", \"Without You\", and \"Lonely Together\". Bergling was nominated for a Grammy Award for his work on \"Sunshine\" with David Guetta in 2012 and \"Levels\" in 2013. Several music publications credit Bergling as among the DJs who ushered electronic music into Top 40 radio in the early 2010s. \n",
            "For micheal 1  Tim Bergling (Swedish: [ˈtɪmː ˈbæ̂rjlɪŋ] ⓘ; 8 September 1989 – 20 April 2018), known professionally as Avicii (/əˈviːtʃi/ ə-VEE-chee, Swedish: [aˈvɪ̌tːɕɪ]), was a Swedish DJ, music producer, remixer, and songwriter. At age 16, Bergling began posting his remixes on electronic music forums, which led to his first record deal. He rose to prominence in 2011 with his single \"Levels\". His debut studio album, True (2013), blended electronic music with elements of multiple genres and received generally positive reviews. It peaked in the top 10 in more than 15 countries and topped international charts; the lead single, \"Wake Me Up\", topped most music markets in Europe and reached number four in the United States. In 2015, Bergling released his second studio album, Stories, and in 2017 he released an EP, Avīci (01). His catalog also included the singles \"I Could Be the One\" with Nicky Romero, \"You Make Me\", \"X You\", \"Hey Brother\", \"Addicted to You\", \"The Days\", \"The Nights\", \"Waiting for Love\", \"Without You\", and \"Lonely Together\". Bergling was nominated for a Grammy Award for his work on \"Sunshine\" with David Guetta in 2012 and \"Levels\" in 2013. Several music publications credit Bergling as among the DJs who ushered electronic music into Top 40 radio in the early 2010s. \n",
            "MusicRobo: bye\n",
            "\n",
            "MusicRobo: Goodbye and keep rocking Repulserator!\n"
          ]
        }
      ],
      "source": [
        "#continues dialogue unless user wants to exit\n",
        "continue_dialogue = True\n",
        "print(\"What is your name?\")\n",
        "user_name = input(\"\")\n",
        "u = [user_name]\n",
        "\n",
        "print(\"Hey \" + user_name + \",\" + \"I am MusicRobo and if you want to know something about a musician, ask the brightest mind, me!!\" +\n",
        "      \"\\n\\nWondering what you can ask? Type in any question about about your favourite bands or artists. \" +\n",
        "      \"You can ask questions like: 'Who are the bassists and vocalists at Coldplay?' or 'What does Avicii mean?'\"+\"\\n\\nType 'bye' to exit!\")\n",
        "\n",
        "\n",
        "#printing randomized compliment from compliment list\n",
        "import random\n",
        "compliment = [\"\",\"\", 'yes, I can help you with that. ',\n",
        "              'Wow, that is a really unique request. I am impressed. ',\n",
        "              'That is an interesting question. '\n",
        "              'Okay so, ']\n",
        "\n",
        "yesres = [\"\",\"I am glad to be of service\", \"Woah i am happy to be hear that\",\"But Obvious, who do you think you are asking?\",\"But Obvious, who do you think you are asking?\",\"Aight Cool\",\"What else would you like to know\",\"What else would you like to know\"]\n",
        "\n",
        "while(continue_dialogue == True):\n",
        "    human_text = input()\n",
        "    human_text = human_text.lower()\n",
        "    if human_text != 'bye':\n",
        "        if human_text == \"thanks\" or human_text == 'thank you very much' or human_text == 'thank you':\n",
        "            continue_dialgoue = False\n",
        "            print(\"\\nMusicRobo: Anytime buddy\")\n",
        "        else:\n",
        "            if generate_greeting_response(human_text) != None:\n",
        "                print(\"MusicRobo: \" + generate_greeting_response(human_text))\n",
        "\n",
        "\n",
        "            #Else if to Check if user input starts with tell me about (This is the keyword to import new artists data)\n",
        "            elif human_text.lower().startswith(\"tell me about\"):\n",
        "              #Run function string modifier with human text as input\n",
        "              strmod(human_text) #klink\n",
        "              #This is necessary, Print description with NAME or COMPLIMENT\n",
        "              print(\"For micheal 1\",desc)\n",
        "              #Run this again so the new data can be tokenized and used for the next question\n",
        "              article_sentences = nltk.sent_tokenize(article_text)\n",
        "              article_words = nltk.word_tokenize(article_text)\n",
        "\n",
        "            elif human_text==\"yes\":\n",
        "                print('\\nMusicRobo: ', end ='')\n",
        "                print(random.choice(yesres))\n",
        "                #print(user_name,\" \",random.choice(compliment)) # generating compliment + response\n",
        "                #article_sentences.remove(human_text)\n",
        "\n",
        "            elif human_text==\"no\":\n",
        "                print(\"Please rephrase your question so that I can help you!\")\n",
        "                print('\\nMusicRobo: ', end ='')\n",
        "\n",
        "            else:\n",
        "                print('\\nMusicRobo: ', end ='')\n",
        "                print(user_name , \" \" , random.choice(compliment) , generate_response(human_text)) # generating compliment + response\n",
        "                article_sentences.remove(human_text)\n",
        "\n",
        "    else:\n",
        "        continue_dialogue = False  #deactivating loop\n",
        "        print(\"\\nMusicRobo: Goodbye and keep rocking \" + user_name + \"!\") #closing message\n",
        "\n",
        "\n"
      ]
    }
  ],
  "metadata": {
    "colab": {
      "provenance": []
    },
    "kernelspec": {
      "display_name": "Python 3 (ipykernel)",
      "language": "python",
      "name": "python3"
    },
    "language_info": {
      "codemirror_mode": {
        "name": "ipython",
        "version": 3
      },
      "file_extension": ".py",
      "mimetype": "text/x-python",
      "name": "python",
      "nbconvert_exporter": "python",
      "pygments_lexer": "ipython3",
      "version": "3.9.12"
    }
  },
  "nbformat": 4,
  "nbformat_minor": 5
}
