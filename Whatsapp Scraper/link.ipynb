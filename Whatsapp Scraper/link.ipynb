{
 "cells": [
  {
   "cell_type": "code",
   "execution_count": 2,
   "metadata": {},
   "outputs": [],
   "source": [
    "import re\n",
    "import pandas as pd\n",
    "import os\n",
    "import numpy as np"
   ]
  },
  {
   "cell_type": "code",
   "execution_count": 8,
   "metadata": {},
   "outputs": [
    {
     "data": {
      "text/html": [
       "<div>\n",
       "<style scoped>\n",
       "    .dataframe tbody tr th:only-of-type {\n",
       "        vertical-align: middle;\n",
       "    }\n",
       "\n",
       "    .dataframe tbody tr th {\n",
       "        vertical-align: top;\n",
       "    }\n",
       "\n",
       "    .dataframe thead th {\n",
       "        text-align: right;\n",
       "    }\n",
       "</style>\n",
       "<table border=\"1\" class=\"dataframe\">\n",
       "  <thead>\n",
       "    <tr style=\"text-align: right;\">\n",
       "      <th></th>\n",
       "      <th>Date</th>\n",
       "      <th>Name</th>\n",
       "      <th>Link</th>\n",
       "    </tr>\n",
       "  </thead>\n",
       "  <tbody>\n",
       "    <tr>\n",
       "      <th>0</th>\n",
       "      <td>3/24/23</td>\n",
       "      <td>Repulserator</td>\n",
       "      <td>https://youtu.be/CtVHByJoGek</td>\n",
       "    </tr>\n",
       "    <tr>\n",
       "      <th>1</th>\n",
       "      <td>4/20/23</td>\n",
       "      <td>Osiris</td>\n",
       "      <td>https://music.youtube.com/watch?v=G4UabWhrlx4&amp;...</td>\n",
       "    </tr>\n",
       "    <tr>\n",
       "      <th>2</th>\n",
       "      <td>4/20/23</td>\n",
       "      <td>Osiris</td>\n",
       "      <td>https://music.youtube.com/watch?v=Oz5yO7-dkZs&amp;...</td>\n",
       "    </tr>\n",
       "  </tbody>\n",
       "</table>\n",
       "</div>"
      ],
      "text/plain": [
       "      Date          Name                                               Link\n",
       "0  3/24/23  Repulserator                       https://youtu.be/CtVHByJoGek\n",
       "1  4/20/23        Osiris  https://music.youtube.com/watch?v=G4UabWhrlx4&...\n",
       "2  4/20/23        Osiris  https://music.youtube.com/watch?v=Oz5yO7-dkZs&..."
      ]
     },
     "metadata": {},
     "output_type": "display_data"
    },
    {
     "name": "stdout",
     "output_type": "stream",
     "text": [
      "Download Last how many urls?: \n"
     ]
    },
    {
     "name": "stdout",
     "output_type": "stream",
     "text": [
      "Both k and ks are not empty.\n"
     ]
    }
   ],
   "source": [
    "#file1 = open('whatsoup.txt', 'r',encoding=\"utf8\")\n",
    "\n",
    "file1 = open('whatsoup2.txt', 'r',encoding=\"utf8\")\n",
    "v=file1.readlines()\n",
    "file1.close()\n",
    "res=[]\n",
    "k=[]\n",
    "ks=[]\n",
    "td=\"12-12-2000\"\n",
    "kn=\"\"\n",
    "pattern=\"^\\d{1,2}[/-]\\d{1,2}[/-]\\d{2}\"\n",
    "pat=\"^\\d{1,2}[/-]\\d{1,2}[/-]\\d{2}.{8}- (\\w+)\"\n",
    "patp=\"^\\d{1,2}[/-]\\d{1,2}[/-]\\d{2}.{9,10} - (\\w+)\"\n",
    "xdf=pd.DataFrame(columns=['Date','Name','Link'])\n",
    "command = 'yt-dlp -f bestaudio --extract-audio --audio-quality 0 --audio-format mp3 -o \"/Music/%(artist)s - %(title)s.%(ext)s\" --add-metadata --embed-thumbnail --metadata-from-title \"%(artist)s - %(title)s\" -a np.txt & python conf.py & timeout 8'\n",
    "\n",
    "\n",
    "\n",
    "for f in v:\n",
    "    j=f.split()\n",
    "\n",
    "    try:\n",
    "        re.match(pat,f).group(1)\n",
    "        \n",
    "    except:\n",
    "        try:\n",
    "            re.match(patp,f).group(1)\n",
    "        except:\n",
    "            pass\n",
    "        else:\n",
    "            kn=re.match(patp,f).group(1)\n",
    "        \n",
    "    else:\n",
    "        kn=re.match(pat,f).group(1)\n",
    "\n",
    "\n",
    "    for i in j:\n",
    "\n",
    "        #print(i)\n",
    "        try:\n",
    "            re.match(pattern,i)[0]\n",
    "        except:\n",
    "            pass\n",
    "        else:\n",
    "            td=re.match(pattern,i)[0]\n",
    "        \n",
    "\n",
    "\n",
    "\n",
    "        if i.startswith(\"https:\") or i.startswith(\"http:\"):\n",
    "            res.append(i)\n",
    "            try:\n",
    "                det = re.match(pattern,i)[0]\n",
    "                print(\"det\",re.match(pattern,i)[0])\n",
    "                    \n",
    "            except:\n",
    "                det=td\n",
    "\n",
    "            xdf.loc[len(xdf.index)] = [det,kn,i]\n",
    "\n",
    "def convert(lst):\n",
    "    return ' '.join(lst)\n",
    "    \n",
    "\n",
    "def last(int):\n",
    "    for h in xdf[\"Link\"].tail(int):\n",
    "        if \"https://music.youtube\" in h or \"https://youtu\" in h or \"https://www.youtu\" in h:\n",
    "            k.append(h)\n",
    "\n",
    "\n",
    "        if \"https://open.spotify.com/track\" in h:\n",
    "            ks.append(h)\n",
    "\n",
    "\n",
    "    #Check if spotify and Youtube are segregating correctly\n",
    "    np.savetxt(r'np.txt', k, fmt='%s')\n",
    "    np.savetxt(r'np1.txt', ks, fmt='%s')\n",
    "\n",
    "    kss=convert(ks)\n",
    "\n",
    "\n",
    "    # Check if both k and ks are not empty\n",
    "    if not k or not ks:\n",
    "        print(\"Both k and ks are not empty.\")\n",
    "        if not k:\n",
    "            os.system(f'start cmd /c \\\"spotdl {kss} & python ../conf.py & timeout 8\\\"')\n",
    "\n",
    "        if not ks:\n",
    "\n",
    "            os.system(f'start cmd /c \"{command}\"')\n",
    "            #os.system('start cmd /c \\\"yt-dlp -f bestaudio --extract-audio --audio-quality 0 --audio-format mp3 -o \"/Music/%(artist)s - %(title)s.%(ext)s\" --add-metadata --embed-thumbnail --metadata-from-title \"%(artist)s - %(title)s\" -a np.txt & python conf.py & timeout 8\\\"')\n",
    "\n",
    "\n",
    "\n",
    "    else:\n",
    "        os.chdir(\"Music\")\n",
    "        os.system(f'start cmd /c \\\"spotdl {kss}\\\"')\n",
    "        os.chdir('..')\n",
    "        os.system('start cmd /c \\\"yt-dlp -f bestaudio --extract-audio --audio-quality 0 --audio-format mp3 -o \"/Music/%(artist)s - %(title)s.%(ext)s\" --add-metadata --embed-thumbnail --metadata-from-title \"%(artist)s - %(title)s\" -a np.txt &python conf.py & timeout 8\\\"')\n",
    "\n",
    "if not os.path.exists(\"Music\"):\n",
    "    \n",
    "    os.makedirs(\"Music\")\n",
    "\n",
    "display(xdf.tail(30))\n",
    "\n",
    "print(\"Download Last how many urls?: \")\n",
    "\n",
    "try:\n",
    "    hi=int(input())\n",
    "except:\n",
    "    print(\"cmon man\")\n",
    "else:\n",
    "    last(hi)\n",
    "\n"
   ]
  },
  {
   "cell_type": "markdown",
   "metadata": {},
   "source": [
    "### Testing once more and future scalability"
   ]
  },
  {
   "cell_type": "code",
   "execution_count": 11,
   "metadata": {},
   "outputs": [
    {
     "name": "stdout",
     "output_type": "stream",
     "text": [
      "An error occurred: [Errno 22] Invalid argument: '--f=c:\\\\Users\\\\Kaustubh\\\\AppData\\\\Roaming\\\\jupyter\\\\runtime\\\\kernel-v2-7127VFfANSAAcDN.json'\n"
     ]
    }
   ],
   "source": [
    "import sys\n",
    "\n",
    "# Check if the correct number of command-line arguments is provided\n",
    "if len(sys.argv) != 2:\n",
    "    print(\"Usage: python program.py <input_file>\")\n",
    "    sys.exit(1)\n",
    "\n",
    "# Get the input file name from the command-line arguments\n",
    "input_file = sys.argv[1]\n",
    "\n",
    "try:\n",
    "    with open(input_file, 'r', encoding=\"utf8\") as file1:\n",
    "        lines = file1.readlines()\n",
    "\n",
    "\n",
    "except FileNotFoundError:\n",
    "    print(f\"Error: File '{input_file}' not found.\")\n",
    "except Exception as e:\n",
    "    print(f\"An error occurred: {e}\")\n",
    "\n",
    "## IF in the future i make it a py for future scalability CHEERS"
   ]
  },
  {
   "cell_type": "code",
   "execution_count": null,
   "metadata": {},
   "outputs": [],
   "source": [
    "#The youtube dlp command that cmd runs, to debug it just in case\n",
    "os.system('start /B start cmd.exe @cmd /k yt-dlp -f bestaudio --extract-audio --audio-quality 0 --audio-format mp3 -o \"/Music/%(artist)s - %(title)s.%(ext)s\" --add-metadata --embed-thumbnail --metadata-from-title \"%(artist)s - %(title)s\" -a np.txt')"
   ]
  },
  {
   "cell_type": "code",
   "execution_count": 86,
   "metadata": {},
   "outputs": [
    {
     "name": "stdout",
     "output_type": "stream",
     "text": [
      "12/26/19\n"
     ]
    }
   ],
   "source": [
    "#Leaving this here so you can test your regexp, just in case things go south\n",
    "date=\"12/26/19, 01:08\"\n",
    "pattern=\"\\d{2}[/-]\\d{2}[/-]\\d{2}\"\n",
    "try:\n",
    "    det = re.match(pattern,date)[0]\n",
    "except:\n",
    "    det=None\n",
    "\n",
    "print(det)\n"
   ]
  },
  {
   "cell_type": "code",
   "execution_count": 9,
   "metadata": {},
   "outputs": [
    {
     "name": "stdout",
     "output_type": "stream",
     "text": [
      "Natasha\n"
     ]
    }
   ],
   "source": [
    "k=\"27/07/23, 11:08 pm - Natasha Romanoff: https://open.spotify.com/track/6Qyc6fS4DsZjB2mRW9DsQs?si=Vi_JziUdRAGXqouCUjtBZA\"\n",
    "pat=\"^\\d{1,2}[/-]\\d{1,2}[/-]\\d{2}.{9,10} - (\\w+)\"\n",
    "\n",
    "\n",
    "print(re.match(pat,k).group(1))"
   ]
  }
 ],
 "metadata": {
  "kernelspec": {
   "display_name": "cnav",
   "language": "python",
   "name": "python3"
  },
  "language_info": {
   "codemirror_mode": {
    "name": "ipython",
    "version": 3
   },
   "file_extension": ".py",
   "mimetype": "text/x-python",
   "name": "python",
   "nbconvert_exporter": "python",
   "pygments_lexer": "ipython3",
   "version": "3.10.11"
  },
  "orig_nbformat": 4
 },
 "nbformat": 4,
 "nbformat_minor": 2
}
